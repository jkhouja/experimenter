{
 "cells": [
  {
   "cell_type": "code",
   "execution_count": 1,
   "metadata": {},
   "outputs": [],
   "source": [
    "# install azure and azure ml\n",
    "# login to azure from azure cli\n",
    "# create the resource groups / workspaces "
   ]
  },
  {
   "cell_type": "code",
   "execution_count": 17,
   "metadata": {},
   "outputs": [
    {
     "name": "stdout",
     "output_type": "stream",
     "text": [
      "Hi from Azure.py, I'm running\n"
     ]
    }
   ],
   "source": [
    "from azureml.core.compute import ComputeTarget, AmlCompute\n",
    "from azureml.core.compute_target import ComputeTargetException\n",
    "\n",
    "print(\"Hi from Azure.py, I'm running\")\n",
    "\n",
    "from azureml.core import Workspace\n",
    "from azureml.train.dnn import PyTorch\n",
    "from azureml.core.runconfig import RunConfiguration\n",
    "\n",
    "# Edit a run configuration property on the fly.\n",
    "run_local = RunConfiguration()\n",
    "\n",
    "run_local.environment.python.user_managed_dependencies = True\n",
    "\n",
    "# First, list the supported VM families for Azure Machine Learning Compute\n",
    "#ws = Workspace.get('experiments')\n",
    "\n",
    "ws = Workspace.get(name=\"experiments\",\n",
    "               subscription_id='9a088ce0-493e-4b7c-9811-b7c335cea240',\n",
    "               resource_group='default_resource_group')"
   ]
  },
  {
   "cell_type": "code",
   "execution_count": 34,
   "metadata": {},
   "outputs": [
    {
     "name": "stdout",
     "output_type": "stream",
     "text": [
      "workspacefilestore AzureFile\n",
      "workspaceblobstore AzureBlob\n",
      "Uploading an estimated of 2 files\n",
      "Target already exists. Skipping upload for Users/jkhouja/workspace/repo/arabic_media/data/for training/batch_0_to_15000_pairs_sep__score_10_ngrams_2_3_4_5_6.csv\n",
      "Target already exists. Skipping upload for Users/jkhouja/workspace/repo/arabic_media/data/for training/batch_0_to_15000_pairs_eq_weight_random.csv\n",
      "Uploaded 0 files\n"
     ]
    }
   ],
   "source": [
    "# List all datastores registered in the current workspace\n",
    "datastores = ws.datastores\n",
    "for name, datastore in datastores.items():\n",
    "    print(name, datastore.datastore_type)\n",
    "\n",
    "s = ws.get_default_datastore()\n",
    "k = s.upload(src_dir='/Users/jkhouja/workspace/repo/arabic_media/data/for training/',\n",
    "                 target_path='/Users/jkhouja/workspace/repo/arabic_media/data/for training/',\n",
    "                 overwrite=False,\n",
    "                 show_progress=True)"
   ]
  },
  {
   "cell_type": "code",
   "execution_count": 41,
   "metadata": {},
   "outputs": [
    {
     "data": {
      "text/plain": [
       "$AZUREML_DATAREFERENCE_2a61b0b73a2c4520b10d8fc40738a9f3"
      ]
     },
     "execution_count": 41,
     "metadata": {},
     "output_type": "execute_result"
    }
   ],
   "source": [
    "k"
   ]
  },
  {
   "cell_type": "code",
   "execution_count": 12,
   "metadata": {},
   "outputs": [
    {
     "name": "stdout",
     "output_type": "stream",
     "text": [
      "[{'name': 'Standard_F2s_v2', 'vCPUs': 2, 'gpus': 0, 'memoryGB': 4.0, 'maxResourceVolumeMB': 16384}, {'name': 'Standard_F4s_v2', 'vCPUs': 4, 'gpus': 0, 'memoryGB': 8.0, 'maxResourceVolumeMB': 32768}, {'name': 'Standard_F8s_v2', 'vCPUs': 8, 'gpus': 0, 'memoryGB': 16.0, 'maxResourceVolumeMB': 65536}, {'name': 'Standard_F16s_v2', 'vCPUs': 16, 'gpus': 0, 'memoryGB': 32.0, 'maxResourceVolumeMB': 131072}, {'name': 'Standard_F32s_v2', 'vCPUs': 32, 'gpus': 0, 'memoryGB': 64.0, 'maxResourceVolumeMB': 262144}, {'name': 'Standard_F64s_v2', 'vCPUs': 64, 'gpus': 0, 'memoryGB': 128.0, 'maxResourceVolumeMB': 524288}, {'name': 'Standard_F72s_v2', 'vCPUs': 72, 'gpus': 0, 'memoryGB': 144.0, 'maxResourceVolumeMB': 589824}, {'name': 'Standard_D1_v2', 'vCPUs': 1, 'gpus': 0, 'memoryGB': 3.5, 'maxResourceVolumeMB': 51200}, {'name': 'Standard_D2_v2', 'vCPUs': 2, 'gpus': 0, 'memoryGB': 7.0, 'maxResourceVolumeMB': 102400}, {'name': 'Standard_D3_v2', 'vCPUs': 4, 'gpus': 0, 'memoryGB': 14.0, 'maxResourceVolumeMB': 204800}, {'name': 'Standard_D4_v2', 'vCPUs': 8, 'gpus': 0, 'memoryGB': 28.0, 'maxResourceVolumeMB': 409600}, {'name': 'Standard_D11_v2', 'vCPUs': 2, 'gpus': 0, 'memoryGB': 14.0, 'maxResourceVolumeMB': 102400}, {'name': 'Standard_D12_v2', 'vCPUs': 4, 'gpus': 0, 'memoryGB': 28.0, 'maxResourceVolumeMB': 204800}, {'name': 'Standard_D13_v2', 'vCPUs': 8, 'gpus': 0, 'memoryGB': 56.0, 'maxResourceVolumeMB': 409600}, {'name': 'Standard_D14_v2', 'vCPUs': 16, 'gpus': 0, 'memoryGB': 112.0, 'maxResourceVolumeMB': 819200}, {'name': 'Standard_DS1_v2', 'vCPUs': 1, 'gpus': 0, 'memoryGB': 3.5, 'maxResourceVolumeMB': 7168}, {'name': 'Standard_DS2_v2', 'vCPUs': 2, 'gpus': 0, 'memoryGB': 7.0, 'maxResourceVolumeMB': 14336}, {'name': 'Standard_DS3_v2', 'vCPUs': 4, 'gpus': 0, 'memoryGB': 14.0, 'maxResourceVolumeMB': 28672}, {'name': 'Standard_DS4_v2', 'vCPUs': 8, 'gpus': 0, 'memoryGB': 28.0, 'maxResourceVolumeMB': 57344}, {'name': 'Standard_DS5_v2', 'vCPUs': 16, 'gpus': 0, 'memoryGB': 56.0, 'maxResourceVolumeMB': 114688}, {'name': 'Standard_DS11_v2', 'vCPUs': 2, 'gpus': 0, 'memoryGB': 14.0, 'maxResourceVolumeMB': 28672}, {'name': 'Standard_DS12_v2', 'vCPUs': 4, 'gpus': 0, 'memoryGB': 28.0, 'maxResourceVolumeMB': 57344}, {'name': 'Standard_DS13_v2', 'vCPUs': 8, 'gpus': 0, 'memoryGB': 56.0, 'maxResourceVolumeMB': 114688}, {'name': 'Standard_DS14_v2', 'vCPUs': 16, 'gpus': 0, 'memoryGB': 112.0, 'maxResourceVolumeMB': 229376}, {'name': 'Standard_DS15_v2', 'vCPUs': 20, 'gpus': 0, 'memoryGB': 140.0, 'maxResourceVolumeMB': 286720}, {'name': 'Standard_M32-8ms', 'vCPUs': 32, 'gpus': 0, 'memoryGB': 875.0, 'maxResourceVolumeMB': 1024000}, {'name': 'Standard_M32-16ms', 'vCPUs': 32, 'gpus': 0, 'memoryGB': 875.0, 'maxResourceVolumeMB': 1024000}, {'name': 'Standard_M32ls', 'vCPUs': 32, 'gpus': 0, 'memoryGB': 256.0, 'maxResourceVolumeMB': 1024000}, {'name': 'Standard_M32ms', 'vCPUs': 32, 'gpus': 0, 'memoryGB': 875.0, 'maxResourceVolumeMB': 1024000}, {'name': 'Standard_M32ts', 'vCPUs': 32, 'gpus': 0, 'memoryGB': 192.0, 'maxResourceVolumeMB': 1024000}, {'name': 'Standard_M64-16ms', 'vCPUs': 64, 'gpus': 0, 'memoryGB': 1750.0, 'maxResourceVolumeMB': 2048000}, {'name': 'Standard_M64-32ms', 'vCPUs': 64, 'gpus': 0, 'memoryGB': 1750.0, 'maxResourceVolumeMB': 2048000}, {'name': 'Standard_M64ls', 'vCPUs': 64, 'gpus': 0, 'memoryGB': 512.0, 'maxResourceVolumeMB': 2048000}, {'name': 'Standard_M64ms', 'vCPUs': 64, 'gpus': 0, 'memoryGB': 1750.0, 'maxResourceVolumeMB': 2048000}, {'name': 'Standard_M64s', 'vCPUs': 64, 'gpus': 0, 'memoryGB': 1000.0, 'maxResourceVolumeMB': 2048000}, {'name': 'Standard_M128-32ms', 'vCPUs': 128, 'gpus': 0, 'memoryGB': 3800.0, 'maxResourceVolumeMB': 4096000}, {'name': 'Standard_M128-64ms', 'vCPUs': 128, 'gpus': 0, 'memoryGB': 3800.0, 'maxResourceVolumeMB': 4096000}, {'name': 'Standard_M128ms', 'vCPUs': 128, 'gpus': 0, 'memoryGB': 3800.0, 'maxResourceVolumeMB': 4096000}, {'name': 'Standard_M128s', 'vCPUs': 128, 'gpus': 0, 'memoryGB': 2000.0, 'maxResourceVolumeMB': 4096000}, {'name': 'Standard_M64', 'vCPUs': 64, 'gpus': 0, 'memoryGB': 1000.0, 'maxResourceVolumeMB': 8192000}, {'name': 'Standard_M64m', 'vCPUs': 64, 'gpus': 0, 'memoryGB': 1750.0, 'maxResourceVolumeMB': 8192000}, {'name': 'Standard_M128', 'vCPUs': 128, 'gpus': 0, 'memoryGB': 2000.0, 'maxResourceVolumeMB': 16384000}, {'name': 'Standard_M128m', 'vCPUs': 128, 'gpus': 0, 'memoryGB': 3800.0, 'maxResourceVolumeMB': 16384000}, {'name': 'Standard_NC6s_v2', 'vCPUs': 6, 'gpus': 1, 'memoryGB': 112.0, 'maxResourceVolumeMB': 344064}, {'name': 'Standard_NC12s_v2', 'vCPUs': 12, 'gpus': 2, 'memoryGB': 224.0, 'maxResourceVolumeMB': 688128}, {'name': 'Standard_NC24rs_v2', 'vCPUs': 24, 'gpus': 4, 'memoryGB': 448.0, 'maxResourceVolumeMB': 1376256}, {'name': 'Standard_NC24s_v2', 'vCPUs': 24, 'gpus': 4, 'memoryGB': 448.0, 'maxResourceVolumeMB': 1376256}, {'name': 'Standard_NC6s_v3', 'vCPUs': 6, 'gpus': 1, 'memoryGB': 112.0, 'maxResourceVolumeMB': 344064}, {'name': 'Standard_NC12s_v3', 'vCPUs': 12, 'gpus': 2, 'memoryGB': 224.0, 'maxResourceVolumeMB': 688128}, {'name': 'Standard_NC24rs_v3', 'vCPUs': 24, 'gpus': 4, 'memoryGB': 448.0, 'maxResourceVolumeMB': 1376256}, {'name': 'Standard_NC24s_v3', 'vCPUs': 24, 'gpus': 4, 'memoryGB': 448.0, 'maxResourceVolumeMB': 1376256}, {'name': 'Standard_NC6', 'vCPUs': 6, 'gpus': 1, 'memoryGB': 56.0, 'maxResourceVolumeMB': 389120}, {'name': 'Standard_NC12', 'vCPUs': 12, 'gpus': 2, 'memoryGB': 112.0, 'maxResourceVolumeMB': 696320}, {'name': 'Standard_NC24', 'vCPUs': 24, 'gpus': 4, 'memoryGB': 224.0, 'maxResourceVolumeMB': 1474560}, {'name': 'Standard_NC24r', 'vCPUs': 24, 'gpus': 4, 'memoryGB': 224.0, 'maxResourceVolumeMB': 1474560}, {'name': 'Standard_NV6', 'vCPUs': 6, 'gpus': 1, 'memoryGB': 56.0, 'maxResourceVolumeMB': 389120}, {'name': 'Standard_NV12', 'vCPUs': 12, 'gpus': 2, 'memoryGB': 112.0, 'maxResourceVolumeMB': 696320}, {'name': 'Standard_NV24', 'vCPUs': 24, 'gpus': 4, 'memoryGB': 224.0, 'maxResourceVolumeMB': 1474560}, {'name': 'Standard_M8-2ms', 'vCPUs': 8, 'gpus': 0, 'memoryGB': 218.75, 'maxResourceVolumeMB': 256000}, {'name': 'Standard_M8-4ms', 'vCPUs': 8, 'gpus': 0, 'memoryGB': 218.75, 'maxResourceVolumeMB': 256000}, {'name': 'Standard_M8ms', 'vCPUs': 8, 'gpus': 0, 'memoryGB': 218.75, 'maxResourceVolumeMB': 256000}, {'name': 'Standard_M16-4ms', 'vCPUs': 16, 'gpus': 0, 'memoryGB': 437.5, 'maxResourceVolumeMB': 512000}, {'name': 'Standard_M16-8ms', 'vCPUs': 16, 'gpus': 0, 'memoryGB': 437.5, 'maxResourceVolumeMB': 512000}, {'name': 'Standard_M16ms', 'vCPUs': 16, 'gpus': 0, 'memoryGB': 437.5, 'maxResourceVolumeMB': 512000}]\n"
     ]
    }
   ],
   "source": [
    "from azureml.core.compute import ComputeTarget, AmlCompute\n",
    "\n",
    "from azureml.core import Workspace\n",
    "\n",
    "from azureml.core.runconfig import RunConfiguration\n",
    "\n",
    "# Edit a run configuration property on the fly.\n",
    "run_local = RunConfiguration()\n",
    "\n",
    "run_local.environment.python.user_managed_dependencies = True\n",
    "\n",
    "# First, list the supported VM families for Azure Machine Learning Compute\n",
    "#ws = Workspace.get('experiments')\n",
    "\n",
    "ws = Workspace.get(name=\"experiments\",\n",
    "               subscription_id='9a088ce0-493e-4b7c-9811-b7c335cea240',\n",
    "               resource_group='default_resource_group')\n",
    "\n",
    "print(AmlCompute.supported_vmsizes(workspace=ws))\n",
    "\n",
    "from azureml.core.runconfig import RunConfiguration\n",
    "# Create a new runconfig object\n",
    "run_temp_compute = RunConfiguration()\n",
    "\n",
    "# Signal that you want to use AmlCompute to execute the script\n",
    "run_temp_compute.target = \"amlcompute\"\n",
    "\n",
    "# AmlCompute is created in the same region as your workspace\n",
    "# Set the VM size for AmlCompute from the list of supported_vmsizes\n",
    "run_temp_compute.amlcompute.vm_size = 'STANDARD_D2_V2'\n",
    "\n",
    "from azureml.core import ScriptRunConfig\n",
    "import os \n",
    "\n",
    "from azureml.core import Experiment\n",
    "experiment_name = 'my_experiment'\n",
    "\n",
    "exp = Experiment(workspace=ws, name=experiment_name)\n",
    "\n",
    "script_folder = \"../\"\n",
    "src = ScriptRunConfig(source_directory = script_folder, script = 'run.py', arguments=['--config_file local/pairs.json'],  run_config = run_local)\n",
    "run = exp.submit(src)\n",
    "run.wait_for_completion(show_output = True)"
   ]
  },
  {
   "cell_type": "code",
   "execution_count": 15,
   "metadata": {},
   "outputs": [
    {
     "ename": "OSError",
     "evalue": "[Errno 24] Too many open files: '/Users/jkhouja/workspace/repo/latynt/experimenter/.git/logs/refs/heads/master'",
     "output_type": "error",
     "traceback": [
      "\u001b[0;31m---------------------------------------------------------------------------\u001b[0m",
      "\u001b[0;31mOSError\u001b[0m                                   Traceback (most recent call last)",
      "\u001b[0;32m<ipython-input-15-944c0213ede5>\u001b[0m in \u001b[0;36m<module>\u001b[0;34m\u001b[0m\n\u001b[1;32m      9\u001b[0m \u001b[0mscript_folder\u001b[0m \u001b[0;34m=\u001b[0m \u001b[0;34m\"../\"\u001b[0m\u001b[0;34m\u001b[0m\u001b[0;34m\u001b[0m\u001b[0m\n\u001b[1;32m     10\u001b[0m \u001b[0msrc\u001b[0m \u001b[0;34m=\u001b[0m \u001b[0mScriptRunConfig\u001b[0m\u001b[0;34m(\u001b[0m\u001b[0msource_directory\u001b[0m \u001b[0;34m=\u001b[0m \u001b[0mscript_folder\u001b[0m\u001b[0;34m,\u001b[0m \u001b[0mscript\u001b[0m \u001b[0;34m=\u001b[0m \u001b[0;34m'run.py'\u001b[0m\u001b[0;34m,\u001b[0m \u001b[0marguments\u001b[0m\u001b[0;34m=\u001b[0m\u001b[0;34m[\u001b[0m\u001b[0;34m'--config_file local/pairs.json'\u001b[0m\u001b[0;34m]\u001b[0m\u001b[0;34m,\u001b[0m  \u001b[0mrun_config\u001b[0m \u001b[0;34m=\u001b[0m \u001b[0mrun_local\u001b[0m\u001b[0;34m)\u001b[0m\u001b[0;34m\u001b[0m\u001b[0;34m\u001b[0m\u001b[0m\n\u001b[0;32m---> 11\u001b[0;31m \u001b[0mrun\u001b[0m \u001b[0;34m=\u001b[0m \u001b[0mexp\u001b[0m\u001b[0;34m.\u001b[0m\u001b[0msubmit\u001b[0m\u001b[0;34m(\u001b[0m\u001b[0msrc\u001b[0m\u001b[0;34m)\u001b[0m\u001b[0;34m\u001b[0m\u001b[0;34m\u001b[0m\u001b[0m\n\u001b[0m\u001b[1;32m     12\u001b[0m \u001b[0mrun\u001b[0m\u001b[0;34m.\u001b[0m\u001b[0mwait_for_completion\u001b[0m\u001b[0;34m(\u001b[0m\u001b[0mshow_output\u001b[0m \u001b[0;34m=\u001b[0m \u001b[0;32mTrue\u001b[0m\u001b[0;34m)\u001b[0m\u001b[0;34m\u001b[0m\u001b[0;34m\u001b[0m\u001b[0m\n",
      "\u001b[0;32m~/opt/anaconda3/lib/python3.7/site-packages/azureml/core/experiment.py\u001b[0m in \u001b[0;36msubmit\u001b[0;34m(self, config, tags, **kwargs)\u001b[0m\n\u001b[1;32m    200\u001b[0m         \u001b[0msubmit_func\u001b[0m \u001b[0;34m=\u001b[0m \u001b[0mget_experiment_submit\u001b[0m\u001b[0;34m(\u001b[0m\u001b[0mconfig\u001b[0m\u001b[0;34m)\u001b[0m\u001b[0;34m\u001b[0m\u001b[0;34m\u001b[0m\u001b[0m\n\u001b[1;32m    201\u001b[0m         \u001b[0;32mwith\u001b[0m \u001b[0mself\u001b[0m\u001b[0;34m.\u001b[0m\u001b[0m_log_context\u001b[0m\u001b[0;34m(\u001b[0m\u001b[0;34m\"submit config {}\"\u001b[0m\u001b[0;34m.\u001b[0m\u001b[0mformat\u001b[0m\u001b[0;34m(\u001b[0m\u001b[0mconfig\u001b[0m\u001b[0;34m.\u001b[0m\u001b[0m__class__\u001b[0m\u001b[0;34m.\u001b[0m\u001b[0m__name__\u001b[0m\u001b[0;34m)\u001b[0m\u001b[0;34m)\u001b[0m\u001b[0;34m:\u001b[0m\u001b[0;34m\u001b[0m\u001b[0;34m\u001b[0m\u001b[0m\n\u001b[0;32m--> 202\u001b[0;31m             \u001b[0mrun\u001b[0m \u001b[0;34m=\u001b[0m \u001b[0msubmit_func\u001b[0m\u001b[0;34m(\u001b[0m\u001b[0mconfig\u001b[0m\u001b[0;34m,\u001b[0m \u001b[0mself\u001b[0m\u001b[0;34m.\u001b[0m\u001b[0mworkspace\u001b[0m\u001b[0;34m,\u001b[0m \u001b[0mself\u001b[0m\u001b[0;34m.\u001b[0m\u001b[0mname\u001b[0m\u001b[0;34m,\u001b[0m \u001b[0;34m**\u001b[0m\u001b[0mkwargs\u001b[0m\u001b[0;34m)\u001b[0m\u001b[0;34m\u001b[0m\u001b[0;34m\u001b[0m\u001b[0m\n\u001b[0m\u001b[1;32m    203\u001b[0m         \u001b[0;32mif\u001b[0m \u001b[0mtags\u001b[0m \u001b[0;32mis\u001b[0m \u001b[0;32mnot\u001b[0m \u001b[0;32mNone\u001b[0m\u001b[0;34m:\u001b[0m\u001b[0;34m\u001b[0m\u001b[0;34m\u001b[0m\u001b[0m\n\u001b[1;32m    204\u001b[0m             \u001b[0mrun\u001b[0m\u001b[0;34m.\u001b[0m\u001b[0mset_tags\u001b[0m\u001b[0;34m(\u001b[0m\u001b[0mtags\u001b[0m\u001b[0;34m)\u001b[0m\u001b[0;34m\u001b[0m\u001b[0;34m\u001b[0m\u001b[0m\n",
      "\u001b[0;32m~/opt/anaconda3/lib/python3.7/site-packages/azureml/core/script_run_config.py\u001b[0m in \u001b[0;36msubmit\u001b[0;34m(script_run_config, workspace, experiment_name, run_id, _parent_run_id)\u001b[0m\n\u001b[1;32m     55\u001b[0m     run = _commands.start_run(project, run_config,\n\u001b[1;32m     56\u001b[0m                               \u001b[0mtelemetry_values\u001b[0m\u001b[0;34m=\u001b[0m\u001b[0mscript_run_config\u001b[0m\u001b[0;34m.\u001b[0m\u001b[0m_telemetry_values\u001b[0m\u001b[0;34m,\u001b[0m\u001b[0;34m\u001b[0m\u001b[0;34m\u001b[0m\u001b[0m\n\u001b[0;32m---> 57\u001b[0;31m                               run_id=run_id, parent_run_id=_parent_run_id)\n\u001b[0m\u001b[1;32m     58\u001b[0m     \u001b[0mrun\u001b[0m\u001b[0;34m.\u001b[0m\u001b[0madd_properties\u001b[0m\u001b[0;34m(\u001b[0m\u001b[0mglobal_tracking_info_registry\u001b[0m\u001b[0;34m.\u001b[0m\u001b[0mgather_all\u001b[0m\u001b[0;34m(\u001b[0m\u001b[0mscript_run_config\u001b[0m\u001b[0;34m.\u001b[0m\u001b[0msource_directory\u001b[0m\u001b[0;34m)\u001b[0m\u001b[0;34m)\u001b[0m\u001b[0;34m\u001b[0m\u001b[0;34m\u001b[0m\u001b[0m\n\u001b[1;32m     59\u001b[0m \u001b[0;34m\u001b[0m\u001b[0m\n",
      "\u001b[0;32m~/opt/anaconda3/lib/python3.7/site-packages/azureml/_execution/_commands.py\u001b[0m in \u001b[0;36mstart_run\u001b[0;34m(project_object, run_config_object, run_id, injected_files, telemetry_values, parent_run_id, prepare_only, check)\u001b[0m\n\u001b[1;32m    114\u001b[0m             \u001b[0;32mraise\u001b[0m \u001b[0mExperimentExecutionException\u001b[0m\u001b[0;34m(\u001b[0m\u001b[0;34m\"Can not check preparation of local targets\"\u001b[0m\u001b[0;34m)\u001b[0m\u001b[0;34m\u001b[0m\u001b[0;34m\u001b[0m\u001b[0m\n\u001b[1;32m    115\u001b[0m         return _start_internal_local_cloud(project_object, run_config_object,\n\u001b[0;32m--> 116\u001b[0;31m                                            **shared_start_run_kwargs)\n\u001b[0m\u001b[1;32m    117\u001b[0m     \u001b[0;32melse\u001b[0m\u001b[0;34m:\u001b[0m\u001b[0;34m\u001b[0m\u001b[0;34m\u001b[0m\u001b[0m\n\u001b[1;32m    118\u001b[0m         return _start_internal(project_object, run_config_object, prepare_check=check,\n",
      "\u001b[0;32m~/opt/anaconda3/lib/python3.7/site-packages/azureml/_execution/_commands.py\u001b[0m in \u001b[0;36m_start_internal_local_cloud\u001b[0;34m(project_object, run_config_object, prepare_only, custom_target_dict, run_id, injected_files, telemetry_values, parent_run_id)\u001b[0m\n\u001b[1;32m    279\u001b[0m                 \u001b[0;32mraise\u001b[0m \u001b[0mExperimentExecutionException\u001b[0m\u001b[0;34m(\u001b[0m\u001b[0mex\u001b[0m\u001b[0;34m.\u001b[0m\u001b[0moutput\u001b[0m\u001b[0;34m)\u001b[0m\u001b[0;34m\u001b[0m\u001b[0;34m\u001b[0m\u001b[0m\n\u001b[1;32m    280\u001b[0m \u001b[0;34m\u001b[0m\u001b[0m\n\u001b[0;32m--> 281\u001b[0;31m             \u001b[0msnapshot_id\u001b[0m \u001b[0;34m=\u001b[0m \u001b[0msnapshot_async\u001b[0m\u001b[0;34m.\u001b[0m\u001b[0mget\u001b[0m\u001b[0;34m(\u001b[0m\u001b[0;34m)\u001b[0m \u001b[0;32mif\u001b[0m \u001b[0msnapshot_async\u001b[0m \u001b[0;32melse\u001b[0m \u001b[0;32mNone\u001b[0m\u001b[0;34m\u001b[0m\u001b[0;34m\u001b[0m\u001b[0m\n\u001b[0m\u001b[1;32m    282\u001b[0m             \u001b[0mthread_pool\u001b[0m\u001b[0;34m.\u001b[0m\u001b[0mclose\u001b[0m\u001b[0;34m(\u001b[0m\u001b[0;34m)\u001b[0m\u001b[0;34m\u001b[0m\u001b[0;34m\u001b[0m\u001b[0m\n\u001b[1;32m    283\u001b[0m \u001b[0;34m\u001b[0m\u001b[0m\n",
      "\u001b[0;32m~/opt/anaconda3/lib/python3.7/multiprocessing/pool.py\u001b[0m in \u001b[0;36mget\u001b[0;34m(self, timeout)\u001b[0m\n\u001b[1;32m    655\u001b[0m             \u001b[0;32mreturn\u001b[0m \u001b[0mself\u001b[0m\u001b[0;34m.\u001b[0m\u001b[0m_value\u001b[0m\u001b[0;34m\u001b[0m\u001b[0;34m\u001b[0m\u001b[0m\n\u001b[1;32m    656\u001b[0m         \u001b[0;32melse\u001b[0m\u001b[0;34m:\u001b[0m\u001b[0;34m\u001b[0m\u001b[0;34m\u001b[0m\u001b[0m\n\u001b[0;32m--> 657\u001b[0;31m             \u001b[0;32mraise\u001b[0m \u001b[0mself\u001b[0m\u001b[0;34m.\u001b[0m\u001b[0m_value\u001b[0m\u001b[0;34m\u001b[0m\u001b[0;34m\u001b[0m\u001b[0m\n\u001b[0m\u001b[1;32m    658\u001b[0m \u001b[0;34m\u001b[0m\u001b[0m\n\u001b[1;32m    659\u001b[0m     \u001b[0;32mdef\u001b[0m \u001b[0m_set\u001b[0m\u001b[0;34m(\u001b[0m\u001b[0mself\u001b[0m\u001b[0;34m,\u001b[0m \u001b[0mi\u001b[0m\u001b[0;34m,\u001b[0m \u001b[0mobj\u001b[0m\u001b[0;34m)\u001b[0m\u001b[0;34m:\u001b[0m\u001b[0;34m\u001b[0m\u001b[0;34m\u001b[0m\u001b[0m\n",
      "\u001b[0;32m~/opt/anaconda3/lib/python3.7/multiprocessing/pool.py\u001b[0m in \u001b[0;36mworker\u001b[0;34m(inqueue, outqueue, initializer, initargs, maxtasks, wrap_exception)\u001b[0m\n\u001b[1;32m    119\u001b[0m         \u001b[0mjob\u001b[0m\u001b[0;34m,\u001b[0m \u001b[0mi\u001b[0m\u001b[0;34m,\u001b[0m \u001b[0mfunc\u001b[0m\u001b[0;34m,\u001b[0m \u001b[0margs\u001b[0m\u001b[0;34m,\u001b[0m \u001b[0mkwds\u001b[0m \u001b[0;34m=\u001b[0m \u001b[0mtask\u001b[0m\u001b[0;34m\u001b[0m\u001b[0;34m\u001b[0m\u001b[0m\n\u001b[1;32m    120\u001b[0m         \u001b[0;32mtry\u001b[0m\u001b[0;34m:\u001b[0m\u001b[0;34m\u001b[0m\u001b[0;34m\u001b[0m\u001b[0m\n\u001b[0;32m--> 121\u001b[0;31m             \u001b[0mresult\u001b[0m \u001b[0;34m=\u001b[0m \u001b[0;34m(\u001b[0m\u001b[0;32mTrue\u001b[0m\u001b[0;34m,\u001b[0m \u001b[0mfunc\u001b[0m\u001b[0;34m(\u001b[0m\u001b[0;34m*\u001b[0m\u001b[0margs\u001b[0m\u001b[0;34m,\u001b[0m \u001b[0;34m**\u001b[0m\u001b[0mkwds\u001b[0m\u001b[0;34m)\u001b[0m\u001b[0;34m)\u001b[0m\u001b[0;34m\u001b[0m\u001b[0;34m\u001b[0m\u001b[0m\n\u001b[0m\u001b[1;32m    122\u001b[0m         \u001b[0;32mexcept\u001b[0m \u001b[0mException\u001b[0m \u001b[0;32mas\u001b[0m \u001b[0me\u001b[0m\u001b[0;34m:\u001b[0m\u001b[0;34m\u001b[0m\u001b[0;34m\u001b[0m\u001b[0m\n\u001b[1;32m    123\u001b[0m             \u001b[0;32mif\u001b[0m \u001b[0mwrap_exception\u001b[0m \u001b[0;32mand\u001b[0m \u001b[0mfunc\u001b[0m \u001b[0;32mis\u001b[0m \u001b[0;32mnot\u001b[0m \u001b[0m_helper_reraises_exception\u001b[0m\u001b[0;34m:\u001b[0m\u001b[0;34m\u001b[0m\u001b[0;34m\u001b[0m\u001b[0m\n",
      "\u001b[0;32m~/opt/anaconda3/lib/python3.7/site-packages/azureml/_restclient/snapshots_client.py\u001b[0m in \u001b[0;36mcreate_snapshot\u001b[0;34m(self, file_or_folder_path, retry_on_failure, raise_on_validation_failure)\u001b[0m\n\u001b[1;32m    127\u001b[0m                                     \u001b[0;32mif\u001b[0m \u001b[0mos\u001b[0m\u001b[0;34m.\u001b[0m\u001b[0mpath\u001b[0m\u001b[0;34m.\u001b[0m\u001b[0misdir\u001b[0m\u001b[0;34m(\u001b[0m\u001b[0mfile_or_folder_path\u001b[0m\u001b[0;34m)\u001b[0m\u001b[0;34m\u001b[0m\u001b[0;34m\u001b[0m\u001b[0m\n\u001b[1;32m    128\u001b[0m                                     else entry.node_path)\n\u001b[0;32m--> 129\u001b[0;31m                         \u001b[0mfile_obj\u001b[0m \u001b[0;34m=\u001b[0m \u001b[0mopen\u001b[0m\u001b[0;34m(\u001b[0m\u001b[0mpath_env\u001b[0m\u001b[0;34m,\u001b[0m \u001b[0;34m\"rb\"\u001b[0m\u001b[0;34m)\u001b[0m\u001b[0;34m\u001b[0m\u001b[0;34m\u001b[0m\u001b[0m\n\u001b[0m\u001b[1;32m    130\u001b[0m                         \u001b[0mfiles_to_send\u001b[0m\u001b[0;34m.\u001b[0m\u001b[0mappend\u001b[0m\u001b[0;34m(\u001b[0m\u001b[0;34m(\u001b[0m\u001b[0;34m\"files\"\u001b[0m\u001b[0;34m,\u001b[0m \u001b[0;34m(\u001b[0m\u001b[0mentry\u001b[0m\u001b[0;34m.\u001b[0m\u001b[0mnode_path\u001b[0m\u001b[0;34m,\u001b[0m \u001b[0mfile_obj\u001b[0m\u001b[0;34m)\u001b[0m\u001b[0;34m)\u001b[0m\u001b[0;34m)\u001b[0m\u001b[0;34m\u001b[0m\u001b[0;34m\u001b[0m\u001b[0m\n\u001b[1;32m    131\u001b[0m                         \u001b[0mfiles_to_close\u001b[0m\u001b[0;34m.\u001b[0m\u001b[0mappend\u001b[0m\u001b[0;34m(\u001b[0m\u001b[0mfile_obj\u001b[0m\u001b[0;34m)\u001b[0m\u001b[0;34m\u001b[0m\u001b[0;34m\u001b[0m\u001b[0m\n",
      "\u001b[0;31mOSError\u001b[0m: [Errno 24] Too many open files: '/Users/jkhouja/workspace/repo/latynt/experimenter/.git/logs/refs/heads/master'"
     ]
    }
   ],
   "source": []
  }
 ],
 "metadata": {
  "kernelspec": {
   "display_name": "Python 3",
   "language": "python",
   "name": "python3"
  },
  "language_info": {
   "codemirror_mode": {
    "name": "ipython",
    "version": 3
   },
   "file_extension": ".py",
   "mimetype": "text/x-python",
   "name": "python",
   "nbconvert_exporter": "python",
   "pygments_lexer": "ipython3",
   "version": "3.7.4"
  }
 },
 "nbformat": 4,
 "nbformat_minor": 2
}
