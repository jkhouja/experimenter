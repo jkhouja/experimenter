{
 "cells": [
  {
   "cell_type": "code",
   "execution_count": 1,
   "metadata": {},
   "outputs": [],
   "source": [
    "import os, sys\n",
    "import importlib\n",
    "import numpy as np\n",
    "sys.path.append(\"..\")"
   ]
  },
  {
   "cell_type": "code",
   "execution_count": 2,
   "metadata": {},
   "outputs": [],
   "source": [
    "import torch.nn\n",
    "from experimenter.MultiTask.modeling import Seq2Seq, SeqDecoder"
   ]
  },
  {
   "cell_type": "code",
   "execution_count": 30,
   "metadata": {},
   "outputs": [],
   "source": [
    "# Does adding parameter inside a module list attribute register it in parameters()? "
   ]
  },
  {
   "cell_type": "code",
   "execution_count": 3,
   "metadata": {},
   "outputs": [
    {
     "name": "stdout",
     "output_type": "stream",
     "text": [
      "<built-in method type of Parameter object at 0x1276e6d20> torch.Size([23, 11]) None\n",
      "<built-in method type of Parameter object at 0x1276e6e60> torch.Size([160, 11]) None\n",
      "<built-in method type of Parameter object at 0x1276e6eb0> torch.Size([160, 40]) None\n",
      "<built-in method type of Parameter object at 0x1276e6f00> torch.Size([160]) None\n",
      "<built-in method type of Parameter object at 0x1276e6f50> torch.Size([160]) None\n"
     ]
    }
   ],
   "source": [
    "conf = {\"device\": \"cpu\", \"out_path\": \".\", \"model_path\": \".\",\n",
    "        \"model\":{\"params\": {\n",
    "        \"dropout\": 0,\n",
    "        \"embedding_dim\": 11,\n",
    "        \"hidden_dim\": 40,\n",
    "        \"inp_seq_len\": [10],\n",
    "        \"out_seq_len\": [10],\n",
    "        \"vocab_size\": 23}}}\n",
    "\n",
    "conf['processor'] = {}\n",
    "conf['processor']['params'] = {}\n",
    "conf['processor']['params']['batch_size'] = 4\n",
    "conf['processor']['params'][\"label_encoder\"] = [\"text\", \"class\"]\n",
    "conf['processor']['params']['num_classes'] = [23, 3]\n",
    "\n",
    "model = Seq2Seq(conf)\n",
    "\n",
    "for p in model.parameters():\n",
    "    print(p.type, p.shape, p.name)"
   ]
  },
  {
   "cell_type": "code",
   "execution_count": 5,
   "metadata": {},
   "outputs": [],
   "source": [
    "# Define a module\n",
    "decoder = SeqDecoder(conf, \n",
    "                     emb_layer=model.emb, \n",
    "                     inp_dim=conf['model']['params']['embedding_dim'], \n",
    "                     hidden_dim=40, \n",
    "                     num_classes=23,\n",
    "                    max_seq_len=10)\n"
   ]
  },
  {
   "cell_type": "code",
   "execution_count": 6,
   "metadata": {},
   "outputs": [
    {
     "name": "stdout",
     "output_type": "stream",
     "text": [
      "<built-in method type of Parameter object at 0x1276e6d20> torch.Size([23, 11]) None\n",
      "<built-in method type of Parameter object at 0x1276f2640> torch.Size([160, 11]) None\n",
      "<built-in method type of Parameter object at 0x1276f28c0> torch.Size([160, 40]) None\n",
      "<built-in method type of Parameter object at 0x1276f2910> torch.Size([160]) None\n",
      "<built-in method type of Parameter object at 0x1276f2820> torch.Size([160]) None\n",
      "<built-in method type of Parameter object at 0x1276f2690> torch.Size([23, 40]) None\n",
      "<built-in method type of Parameter object at 0x1276f2780> torch.Size([23]) None\n"
     ]
    }
   ],
   "source": [
    "# check its parameters:\n",
    "for p in decoder.parameters():\n",
    "    print(p.type, p.shape, p.name)"
   ]
  },
  {
   "cell_type": "code",
   "execution_count": 42,
   "metadata": {},
   "outputs": [],
   "source": [
    "# Add parameter inside a list\n",
    "decoder.p = []\n",
    "decoder.p.append(torch.nn.Linear(200,300))"
   ]
  },
  {
   "cell_type": "code",
   "execution_count": 10,
   "metadata": {},
   "outputs": [
    {
     "name": "stdout",
     "output_type": "stream",
     "text": [
      "torch.FloatTensor torch.Size([23, 11]) None\n",
      "torch.FloatTensor torch.Size([160, 11]) None\n",
      "torch.FloatTensor torch.Size([160, 40]) None\n",
      "torch.FloatTensor torch.Size([160]) None\n",
      "torch.FloatTensor torch.Size([160]) None\n",
      "torch.FloatTensor torch.Size([23, 40]) None\n",
      "torch.FloatTensor torch.Size([23]) None\n",
      "torch.FloatTensor torch.Size([300, 200]) None\n",
      "torch.FloatTensor torch.Size([300]) None\n"
     ]
    }
   ],
   "source": [
    "# Check again to see if added parameter is showing up\n",
    "# It's not! \n",
    "for p in decoder.parameters():\n",
    "    print(p.type(), p.shape, p.name)"
   ]
  },
  {
   "cell_type": "code",
   "execution_count": 8,
   "metadata": {},
   "outputs": [],
   "source": [
    "# Add it as attribute:\n",
    "decoder.p = torch.nn.Linear(200,300)"
   ]
  },
  {
   "cell_type": "code",
   "execution_count": 9,
   "metadata": {},
   "outputs": [
    {
     "name": "stdout",
     "output_type": "stream",
     "text": [
      "<built-in method type of Parameter object at 0x1276e6d20> torch.Size([23, 11]) None\n",
      "<built-in method type of Parameter object at 0x1276f2640> torch.Size([160, 11]) None\n",
      "<built-in method type of Parameter object at 0x1276f28c0> torch.Size([160, 40]) None\n",
      "<built-in method type of Parameter object at 0x1276f2910> torch.Size([160]) None\n",
      "<built-in method type of Parameter object at 0x1276f2820> torch.Size([160]) None\n",
      "<built-in method type of Parameter object at 0x1276f2690> torch.Size([23, 40]) None\n",
      "<built-in method type of Parameter object at 0x1276f2780> torch.Size([23]) None\n",
      "<built-in method type of Parameter object at 0x1276f3e10> torch.Size([300, 200]) None\n",
      "<built-in method type of Parameter object at 0x1276f3e60> torch.Size([300]) None\n"
     ]
    }
   ],
   "source": [
    "# Check again to see if added parameter is showing up\n",
    "# It is added!  \n",
    "for p in decoder.parameters():\n",
    "    print(p.type, p.shape, p.name)"
   ]
  },
  {
   "cell_type": "code",
   "execution_count": 13,
   "metadata": {},
   "outputs": [
    {
     "name": "stdout",
     "output_type": "stream",
     "text": [
      "<built-in method type of Parameter object at 0x1276e6d20> torch.Size([23, 11]) None\n",
      "<built-in method type of Parameter object at 0x127712f50> torch.Size([160, 11]) None\n",
      "<built-in method type of Parameter object at 0x127712fa0> torch.Size([160, 40]) None\n",
      "<built-in method type of Parameter object at 0x127705820> torch.Size([160]) None\n",
      "<built-in method type of Parameter object at 0x1277055a0> torch.Size([160]) None\n",
      "<built-in method type of Parameter object at 0x127705780> torch.Size([23, 40]) None\n",
      "<built-in method type of Parameter object at 0x1277058c0> torch.Size([23]) None\n",
      "<built-in method type of Parameter object at 0x127712d20> torch.Size([300, 200]) None\n",
      "<built-in method type of Parameter object at 0x127712c80> torch.Size([300]) None\n",
      "<built-in method type of Parameter object at 0x127712c30> torch.Size([300, 200]) None\n",
      "<built-in method type of Parameter object at 0x127712be0> torch.Size([300]) None\n",
      "<built-in method type of Parameter object at 0x127712b90> torch.Size([300, 200]) None\n",
      "<built-in method type of Parameter object at 0x127712b40> torch.Size([300]) None\n",
      "<built-in method type of Parameter object at 0x127712af0> torch.Size([300, 200]) None\n",
      "<built-in method type of Parameter object at 0x127712aa0> torch.Size([300]) None\n",
      "<built-in method type of Parameter object at 0x127712a50> torch.Size([300, 200]) None\n",
      "<built-in method type of Parameter object at 0x127712a00> torch.Size([300]) None\n",
      "<built-in method type of Parameter object at 0x1277127d0> torch.Size([300, 200]) None\n",
      "<built-in method type of Parameter object at 0x1277129b0> torch.Size([300]) None\n",
      "<built-in method type of Parameter object at 0x1277128c0> torch.Size([300, 200]) None\n",
      "<built-in method type of Parameter object at 0x127712870> torch.Size([300]) None\n",
      "<built-in method type of Parameter object at 0x127712820> torch.Size([300, 200]) None\n",
      "<built-in method type of Parameter object at 0x127712780> torch.Size([300]) None\n",
      "<built-in method type of Parameter object at 0x127708c80> torch.Size([300, 200]) None\n",
      "<built-in method type of Parameter object at 0x127708d20> torch.Size([300]) None\n",
      "<built-in method type of Parameter object at 0x127708d70> torch.Size([300, 200]) None\n",
      "<built-in method type of Parameter object at 0x127708dc0> torch.Size([300]) None\n"
     ]
    }
   ],
   "source": [
    "# Try to add it using ModuleList (proper way to add list of layers with registration)\n",
    "\n",
    "# Define a module\n",
    "decoder = SeqDecoder(conf, \n",
    "                     emb_layer=model.emb, \n",
    "                     inp_dim=conf['model']['params']['embedding_dim'], \n",
    "                     hidden_dim=40, \n",
    "                     num_classes=23,\n",
    "                    max_seq_len=10)\n",
    "\n",
    "decoder.p = torch.nn.ModuleList()\n",
    "for i in range(10):\n",
    "    decoder.p.append(torch.nn.Linear(200,300))\n",
    "\n",
    "# Check again to see if added parameter is showing up\n",
    "# It is added!  \n",
    "for p in decoder.parameters():\n",
    "    print(p.type, p.shape, p.name)"
   ]
  },
  {
   "cell_type": "code",
   "execution_count": 19,
   "metadata": {},
   "outputs": [
    {
     "name": "stdout",
     "output_type": "stream",
     "text": [
      "Name=emb.weight \t| Type=torch.FloatTensor | Shape=torch.Size([23, 11])\n",
      "Name=lstm.weight_ih_l0 \t| Type=torch.FloatTensor | Shape=torch.Size([160, 11])\n",
      "Name=lstm.weight_hh_l0 \t| Type=torch.FloatTensor | Shape=torch.Size([160, 40])\n",
      "Name=lstm.bias_ih_l0 \t| Type=torch.FloatTensor | Shape=torch.Size([160])\n",
      "Name=lstm.bias_hh_l0 \t| Type=torch.FloatTensor | Shape=torch.Size([160])\n",
      "Name=linear.weight \t| Type=torch.FloatTensor | Shape=torch.Size([23, 40])\n",
      "Name=linear.bias \t| Type=torch.FloatTensor | Shape=torch.Size([23])\n",
      "Name=p.0.weight \t| Type=torch.FloatTensor | Shape=torch.Size([300, 200])\n",
      "Name=p.0.bias   \t| Type=torch.FloatTensor | Shape=torch.Size([300])\n",
      "Name=p.1.weight \t| Type=torch.FloatTensor | Shape=torch.Size([300, 200])\n",
      "Name=p.1.bias   \t| Type=torch.FloatTensor | Shape=torch.Size([300])\n",
      "Name=p.2.weight \t| Type=torch.FloatTensor | Shape=torch.Size([300, 200])\n",
      "Name=p.2.bias   \t| Type=torch.FloatTensor | Shape=torch.Size([300])\n",
      "Name=p.3.weight \t| Type=torch.FloatTensor | Shape=torch.Size([300, 200])\n",
      "Name=p.3.bias   \t| Type=torch.FloatTensor | Shape=torch.Size([300])\n",
      "Name=p.4.weight \t| Type=torch.FloatTensor | Shape=torch.Size([300, 200])\n",
      "Name=p.4.bias   \t| Type=torch.FloatTensor | Shape=torch.Size([300])\n",
      "Name=p.5.weight \t| Type=torch.FloatTensor | Shape=torch.Size([300, 200])\n",
      "Name=p.5.bias   \t| Type=torch.FloatTensor | Shape=torch.Size([300])\n",
      "Name=p.6.weight \t| Type=torch.FloatTensor | Shape=torch.Size([300, 200])\n",
      "Name=p.6.bias   \t| Type=torch.FloatTensor | Shape=torch.Size([300])\n",
      "Name=p.7.weight \t| Type=torch.FloatTensor | Shape=torch.Size([300, 200])\n",
      "Name=p.7.bias   \t| Type=torch.FloatTensor | Shape=torch.Size([300])\n",
      "Name=p.8.weight \t| Type=torch.FloatTensor | Shape=torch.Size([300, 200])\n",
      "Name=p.8.bias   \t| Type=torch.FloatTensor | Shape=torch.Size([300])\n",
      "Name=p.9.weight \t| Type=torch.FloatTensor | Shape=torch.Size([300, 200])\n",
      "Name=p.9.bias   \t| Type=torch.FloatTensor | Shape=torch.Size([300])\n"
     ]
    }
   ],
   "source": [
    "# To access parameters using their names:\n",
    "\n",
    "for name, p in decoder.named_parameters():\n",
    "    print(f\"Name={name:10} \\t| Type={p.type()} | Shape={p.shape}\")"
   ]
  }
 ],
 "metadata": {
  "kernelspec": {
   "display_name": "Python 3",
   "language": "python",
   "name": "python3"
  },
  "language_info": {
   "codemirror_mode": {
    "name": "ipython",
    "version": 3
   },
   "file_extension": ".py",
   "mimetype": "text/x-python",
   "name": "python",
   "nbconvert_exporter": "python",
   "pygments_lexer": "ipython3",
   "version": "3.7.4"
  }
 },
 "nbformat": 4,
 "nbformat_minor": 2
}
