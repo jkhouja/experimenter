{
 "cells": [
  {
   "cell_type": "code",
   "execution_count": 1,
   "metadata": {},
   "outputs": [],
   "source": [
    "import pickle, dill\n",
    "import sys\n",
    "import json\n",
    "sys.path.append(\"..\")\n",
    "import experimenter\n",
    "from experimenter.MultiTask.data import MultiTaskProvider\n",
    "from experimenter.utils import utils as U\n",
    "path = \"/Users/jkhouja/workspace/experiments/moviecorpus/results/MOVIE_CORPUS/Jan_18_2021_16_05_15_752638_9993/\"\n"
   ]
  },
  {
   "cell_type": "code",
   "execution_count": 17,
   "metadata": {},
   "outputs": [
    {
     "name": "stdout",
     "output_type": "stream",
     "text": [
      "Loading processor files from /Users/jkhouja/workspace/experiments/moviecorpus/results/MOVIE_CORPUS/Jan_18_2021_16_05_15_752638_9993/processor.pickle0\n",
      "Loading processor files from /Users/jkhouja/workspace/experiments/moviecorpus/results/MOVIE_CORPUS/Jan_18_2021_16_05_15_752638_9993/processor.pickle1\n"
     ]
    }
   ],
   "source": [
    "config = json.load(open(path + \"results.json\", 'r'))\n",
    "\n",
    "# Will load and process data\n",
    "s = U.load_class(config['processor']['module'], config['processor']['class'], {'config':config, 'checkpoint' : path + \"processor.pickle\"}, pass_params_as_dict=True)\n",
    "\n",
    "# Will override parameters\n",
    "#s.load(path + \"processor.pickle\")\n",
    "\n",
    "m = U.load_class(config['model']['module'], config['model']['class'], config)\n",
    "m.load()\n",
    "m.eval() #Set to inference mode\n",
    "\n",
    "e = U.load_class(config['evaluator']['module'], config['evaluator']['class'],  config )"
   ]
  },
  {
   "cell_type": "code",
   "execution_count": 41,
   "metadata": {},
   "outputs": [],
   "source": [
    "size = 4\n",
    "dummy_data = {'inp': [size*['this product  of the Instagram is not a waste of money!']], 'label': [size * [['neg']]], 'mask': [size * [1]]}\n"
   ]
  },
  {
   "cell_type": "code",
   "execution_count": 33,
   "metadata": {},
   "outputs": [
    {
     "data": {
      "text/plain": [
       "{'inp': [['this {product_descriptor} of the Instagram is a waste of money!',\n",
       "   'this {product_descriptor} of the Instagram is a waste of money!',\n",
       "   'this {product_descriptor} of the Instagram is a waste of money!',\n",
       "   'this {product_descriptor} of the Instagram is a waste of money!']],\n",
       " 'label': [['neg', 'neg', 'neg', 'neg']],\n",
       " 'mask': [[1, 1, 1, 1]]}"
      ]
     },
     "execution_count": 33,
     "metadata": {},
     "output_type": "execute_result"
    }
   ],
   "source": [
    "dummy_data"
   ]
  },
  {
   "cell_type": "code",
   "execution_count": 21,
   "metadata": {},
   "outputs": [
    {
     "name": "stdout",
     "output_type": "stream",
     "text": [
      "great : ['pos']\n"
     ]
    }
   ],
   "source": [
    "# predict one:\n",
    "text = \"great\"\n",
    "\n",
    "# To batchify\n",
    "size = 4\n",
    "dummy_data = {'inp': [size*[text]], 'label': [size * ['+']], 'mask': [size * [1]]}\n",
    "\n",
    "\n",
    "data_as_batches = s(dummy_data, list_input=True, as_batches=True)\n",
    "res = s.decode(s._from_batches([m(U.move_batch(batch, \"cpu\")) for batch in data_as_batches]), list_input=True)\n",
    "\n",
    "res_one = {}\n",
    "for k in res.keys():\n",
    "    res_one[k] = res[k][0][0]\n",
    "\n",
    "print(res_one['inp'], \":\", res_one['pred'])"
   ]
  },
  {
   "cell_type": "code",
   "execution_count": 42,
   "metadata": {},
   "outputs": [
    {
     "data": {
      "text/plain": [
       "{'inp': [['this product  of the <UNK> is not a waste of money!',\n",
       "   'this product  of the <UNK> is not a waste of money!',\n",
       "   'this product  of the <UNK> is not a waste of money!',\n",
       "   'this product  of the <UNK> is not a waste of money!']],\n",
       " 'label': [[['neg'], ['neg'], ['neg'], ['neg']]],\n",
       " 'mask': [[1, 1, 1, 1]],\n",
       " 'out': [[[1.206682801246643, -1.2668569087982178],\n",
       "   [1.206682801246643, -1.2668569087982178],\n",
       "   [1.206682801246643, -1.2668569087982178],\n",
       "   [1.206682801246643, -1.2668569087982178]]],\n",
       " 'pred': [[['neg'], ['neg'], ['neg'], ['neg']]],\n",
       " 'meta': [[[0.9222659468650818, 0.0777340829372406],\n",
       "   [0.9222659468650818, 0.0777340829372406],\n",
       "   [0.9222659468650818, 0.0777340829372406],\n",
       "   [0.9222659468650818, 0.0777340829372406]]]}"
      ]
     },
     "execution_count": 42,
     "metadata": {},
     "output_type": "execute_result"
    }
   ],
   "source": [
    "# Predict list\n",
    "data = dummy_data # Test set\n",
    "data_as_batches = s(data, list_input=True, as_batches=True)\n",
    "\n",
    "res = s._from_batches([m(U.move_batch(batch, \"cpu\")) for batch in data_as_batches])\n",
    "res = s.decode(res, list_input=True)\n",
    "res"
   ]
  },
  {
   "cell_type": "code",
   "execution_count": 37,
   "metadata": {},
   "outputs": [
    {
     "name": "stdout",
     "output_type": "stream",
     "text": [
      "this <UNK> of the <UNK> is a waste of money! ['neg'] ['neg']\n",
      "this <UNK> of the <UNK> is a waste of money! ['neg'] ['neg']\n",
      "this <UNK> of the <UNK> is a waste of money! ['neg'] ['neg']\n",
      "this <UNK> of the <UNK> is a waste of money! ['neg'] ['neg']\n"
     ]
    }
   ],
   "source": [
    "max_idx = 4\n",
    "for idx in range(max_idx):\n",
    "    print(res['inp'][0][idx][-50:], res['pred'][0][idx], res['label'][0][idx])"
   ]
  },
  {
   "cell_type": "code",
   "execution_count": 38,
   "metadata": {},
   "outputs": [
    {
     "data": {
      "text/plain": [
       "1.0"
      ]
     },
     "execution_count": 38,
     "metadata": {},
     "output_type": "execute_result"
    }
   ],
   "source": [
    "# Evaluate\n",
    "#e = U.load_class(config['evaluator']['module'], config['evaluator']['class'],  config )\n",
    "avg_acc = [e.get_metrics(m(U.move_batch(b, \"cpu\")))[0] for b in data_as_batches]\n",
    "import numpy as np\n",
    "np.mean(avg_acc)"
   ]
  }
 ],
 "metadata": {
  "kernelspec": {
   "display_name": "Python 3",
   "language": "python",
   "name": "python3"
  },
  "language_info": {
   "codemirror_mode": {
    "name": "ipython",
    "version": 3
   },
   "file_extension": ".py",
   "mimetype": "text/x-python",
   "name": "python",
   "nbconvert_exporter": "python",
   "pygments_lexer": "ipython3",
   "version": "3.8.5"
  }
 },
 "nbformat": 4,
 "nbformat_minor": 2
}
